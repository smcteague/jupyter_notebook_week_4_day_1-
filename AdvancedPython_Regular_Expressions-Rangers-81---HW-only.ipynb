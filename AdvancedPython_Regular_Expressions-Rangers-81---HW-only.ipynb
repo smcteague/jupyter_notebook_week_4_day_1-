{
 "cells": [
  {
   "cell_type": "code",
   "execution_count": 1,
   "id": "0d4f5fc6",
   "metadata": {},
   "outputs": [],
   "source": [
    "# import re\n",
    "import re"
   ]
  },
  {
   "cell_type": "code",
   "execution_count": 2,
   "id": "f2512708",
   "metadata": {},
   "outputs": [
    {
     "data": {
      "text/plain": [
       "'\\nExpected Output\\nAbraham Lincoln\\nAndrew P Garfield\\nConnor Milliken\\nJordan Alexander Williams\\nNone\\nNone\\n'"
      ]
     },
     "execution_count": 2,
     "metadata": {},
     "output_type": "execute_result"
    }
   ],
   "source": [
    "\"\"\"\n",
    "Expected Output\n",
    "Abraham Lincoln\n",
    "Andrew P Garfield\n",
    "Connor Milliken\n",
    "Jordan Alexander Williams\n",
    "None\n",
    "None\n",
    "\"\"\""
   ]
  },
  {
   "cell_type": "code",
   "execution_count": 3,
   "id": "a6022513",
   "metadata": {},
   "outputs": [
    {
     "name": "stdout",
     "output_type": "stream",
     "text": [
      "\"\"\"\n",
      "Expected Output\n",
      "Abraham Lincoln\n",
      "Andrew P Garfield\n",
      "Connor Milliken\n",
      "Jordan Alexander Williams\n",
      "None\n",
      "None\n",
      "\"\"\"\n"
     ]
    }
   ],
   "source": [
    "# with open(\"regex_test.txt\") as f:\n",
    "#     data = f.readlines()\n",
    "\n",
    "# pattern_no_middle = r\"(?P<no_middle>^[A-Z][a-z]+\\s[A-Z][a-z]+)$\"\n",
    "# pattern_middle_initial = r\"(?P<middle_initial>^[A-Z][a-z]+\\s[A-Z]{1}\\s[A-Z][a-z]+)$\"\n",
    "# pattern_middle_name = r\"(?P<middle_name>^[A-Z][a-z]+\\s[A-Z][a-z]+\\s[A-Z][a-z]+)$\"\n",
    "\n",
    "# pattern = re.compile(f\"{pattern_no_middle}|{pattern_middle_initial}|{pattern_middle_name}\")\n",
    "                     \n",
    "# print(\"\\\"\\\"\\\"\")\n",
    "# print(\"Expected Output\")\n",
    "\n",
    "# for person in data:\n",
    "\n",
    "#     match = pattern.search(person)\n",
    "    \n",
    "#     if match:\n",
    "#         if match.group('no_middle'):\n",
    "#             print(f\"{match.group('no_middle')}\")\n",
    "#         elif match.group('middle_initial'):\n",
    "#                 print(f\"{match.group('middle_initial')}\")\n",
    "#         elif match.group('middle_name'):\n",
    "#                 print(f\"{match.group('middle_name')}\")\n",
    "#     else:\n",
    "#         print(match)\n",
    "        \n",
    "        \n",
    "# print(\"\\\"\\\"\\\"\")\n"
   ]
  }
 ],
 "metadata": {
  "kernelspec": {
   "display_name": "Python 3 (ipykernel)",
   "language": "python",
   "name": "python3"
  },
  "language_info": {
   "codemirror_mode": {
    "name": "ipython",
    "version": 3
   },
   "file_extension": ".py",
   "mimetype": "text/x-python",
   "name": "python",
   "nbconvert_exporter": "python",
   "pygments_lexer": "ipython3",
   "version": "3.9.12"
  }
 },
 "nbformat": 4,
 "nbformat_minor": 5
}
